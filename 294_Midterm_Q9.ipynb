{
 "cells": [
  {
   "cell_type": "markdown",
   "metadata": {
    "tags": []
   },
   "source": [
    "## Question 9.6"
   ]
  },
  {
   "cell_type": "code",
   "execution_count": 19,
   "metadata": {
    "tags": []
   },
   "outputs": [],
   "source": [
    "## Question 9.6\n",
    "# Some code from the CNN template provided by Phudish Prateepamornkul"
   ]
  },
  {
   "cell_type": "code",
   "execution_count": 7,
   "metadata": {
    "colab": {
     "base_uri": "https://localhost:8080/"
    },
    "collapsed": true,
    "id": "WILTqN5h8dId",
    "jupyter": {
     "outputs_hidden": true
    },
    "outputId": "85169490-f502-493d-ff56-7acb0d5c6958",
    "tags": []
   },
   "outputs": [
    {
     "name": "stdout",
     "output_type": "stream",
     "text": [
      "Defaulting to user installation because normal site-packages is not writeable\n",
      "Requirement already satisfied: torchmetrics in ./.local/lib/python3.11/site-packages (1.3.1)\n",
      "Requirement already satisfied: numpy>1.20.0 in /usr/local/linux/mambaforge-3.11/lib/python3.11/site-packages (from torchmetrics) (1.23.5)\n",
      "Requirement already satisfied: packaging>17.1 in /usr/local/linux/mambaforge-3.11/lib/python3.11/site-packages (from torchmetrics) (21.3)\n",
      "Requirement already satisfied: torch>=1.10.0 in /usr/local/linux/mambaforge-3.11/lib/python3.11/site-packages (from torchmetrics) (2.0.0)\n",
      "Requirement already satisfied: lightning-utilities>=0.8.0 in ./.local/lib/python3.11/site-packages (from torchmetrics) (0.10.1)\n",
      "Requirement already satisfied: setuptools in /usr/local/linux/mambaforge-3.11/lib/python3.11/site-packages (from lightning-utilities>=0.8.0->torchmetrics) (65.5.1)\n",
      "Requirement already satisfied: typing-extensions in /usr/local/linux/mambaforge-3.11/lib/python3.11/site-packages (from lightning-utilities>=0.8.0->torchmetrics) (4.4.0)\n",
      "Requirement already satisfied: pyparsing!=3.0.5,>=2.0.2 in /usr/local/linux/mambaforge-3.11/lib/python3.11/site-packages (from packaging>17.1->torchmetrics) (3.0.9)\n",
      "Requirement already satisfied: filelock in /usr/local/linux/mambaforge-3.11/lib/python3.11/site-packages (from torch>=1.10.0->torchmetrics) (3.8.2)\n",
      "Requirement already satisfied: sympy in /usr/local/linux/mambaforge-3.11/lib/python3.11/site-packages (from torch>=1.10.0->torchmetrics) (1.11.1)\n",
      "Requirement already satisfied: networkx in /usr/local/linux/mambaforge-3.11/lib/python3.11/site-packages (from torch>=1.10.0->torchmetrics) (2.8.8)\n",
      "Requirement already satisfied: jinja2 in /usr/local/linux/mambaforge-3.11/lib/python3.11/site-packages (from torch>=1.10.0->torchmetrics) (3.1.2)\n",
      "Requirement already satisfied: nvidia-cuda-nvrtc-cu11==11.7.99 in /usr/local/linux/mambaforge-3.11/lib/python3.11/site-packages (from torch>=1.10.0->torchmetrics) (11.7.99)\n",
      "Requirement already satisfied: nvidia-cuda-runtime-cu11==11.7.99 in /usr/local/linux/mambaforge-3.11/lib/python3.11/site-packages (from torch>=1.10.0->torchmetrics) (11.7.99)\n",
      "Requirement already satisfied: nvidia-cuda-cupti-cu11==11.7.101 in /usr/local/linux/mambaforge-3.11/lib/python3.11/site-packages (from torch>=1.10.0->torchmetrics) (11.7.101)\n",
      "Requirement already satisfied: nvidia-cudnn-cu11==8.5.0.96 in ./.local/lib/python3.11/site-packages (from torch>=1.10.0->torchmetrics) (8.5.0.96)\n",
      "Requirement already satisfied: nvidia-cublas-cu11==11.10.3.66 in ./.local/lib/python3.11/site-packages (from torch>=1.10.0->torchmetrics) (11.10.3.66)\n",
      "Requirement already satisfied: nvidia-cufft-cu11==10.9.0.58 in /usr/local/linux/mambaforge-3.11/lib/python3.11/site-packages (from torch>=1.10.0->torchmetrics) (10.9.0.58)\n",
      "Requirement already satisfied: nvidia-curand-cu11==10.2.10.91 in /usr/local/linux/mambaforge-3.11/lib/python3.11/site-packages (from torch>=1.10.0->torchmetrics) (10.2.10.91)\n",
      "Requirement already satisfied: nvidia-cusolver-cu11==11.4.0.1 in /usr/local/linux/mambaforge-3.11/lib/python3.11/site-packages (from torch>=1.10.0->torchmetrics) (11.4.0.1)\n",
      "Requirement already satisfied: nvidia-cusparse-cu11==11.7.4.91 in /usr/local/linux/mambaforge-3.11/lib/python3.11/site-packages (from torch>=1.10.0->torchmetrics) (11.7.4.91)\n",
      "Requirement already satisfied: nvidia-nccl-cu11==2.14.3 in /usr/local/linux/mambaforge-3.11/lib/python3.11/site-packages (from torch>=1.10.0->torchmetrics) (2.14.3)\n",
      "Requirement already satisfied: nvidia-nvtx-cu11==11.7.91 in /usr/local/linux/mambaforge-3.11/lib/python3.11/site-packages (from torch>=1.10.0->torchmetrics) (11.7.91)\n",
      "Requirement already satisfied: triton==2.0.0 in /usr/local/linux/mambaforge-3.11/lib/python3.11/site-packages (from torch>=1.10.0->torchmetrics) (2.0.0)\n",
      "Requirement already satisfied: wheel in /usr/local/linux/mambaforge-3.11/lib/python3.11/site-packages (from nvidia-cublas-cu11==11.10.3.66->torch>=1.10.0->torchmetrics) (0.38.4)\n",
      "Requirement already satisfied: cmake in /usr/local/linux/mambaforge-3.11/lib/python3.11/site-packages (from triton==2.0.0->torch>=1.10.0->torchmetrics) (3.26.1)\n",
      "Requirement already satisfied: lit in /usr/local/linux/mambaforge-3.11/lib/python3.11/site-packages (from triton==2.0.0->torch>=1.10.0->torchmetrics) (16.0.0)\n",
      "Requirement already satisfied: MarkupSafe>=2.0 in /usr/local/linux/mambaforge-3.11/lib/python3.11/site-packages (from jinja2->torch>=1.10.0->torchmetrics) (2.1.1)\n",
      "Requirement already satisfied: mpmath>=0.19 in /usr/local/linux/mambaforge-3.11/lib/python3.11/site-packages (from sympy->torch>=1.10.0->torchmetrics) (1.3.0)\n",
      "Defaulting to user installation because normal site-packages is not writeable\n",
      "Requirement already satisfied: torchvision in /usr/local/linux/mambaforge-3.11/lib/python3.11/site-packages (0.15.1)\n",
      "Requirement already satisfied: numpy in /usr/local/linux/mambaforge-3.11/lib/python3.11/site-packages (from torchvision) (1.23.5)\n",
      "Requirement already satisfied: requests in /usr/local/linux/mambaforge-3.11/lib/python3.11/site-packages (from torchvision) (2.28.1)\n",
      "Requirement already satisfied: torch==2.0.0 in /usr/local/linux/mambaforge-3.11/lib/python3.11/site-packages (from torchvision) (2.0.0)\n",
      "Requirement already satisfied: pillow!=8.3.*,>=5.3.0 in /usr/local/linux/mambaforge-3.11/lib/python3.11/site-packages (from torchvision) (9.2.0)\n",
      "Requirement already satisfied: filelock in /usr/local/linux/mambaforge-3.11/lib/python3.11/site-packages (from torch==2.0.0->torchvision) (3.8.2)\n",
      "Requirement already satisfied: typing-extensions in /usr/local/linux/mambaforge-3.11/lib/python3.11/site-packages (from torch==2.0.0->torchvision) (4.4.0)\n",
      "Requirement already satisfied: sympy in /usr/local/linux/mambaforge-3.11/lib/python3.11/site-packages (from torch==2.0.0->torchvision) (1.11.1)\n",
      "Requirement already satisfied: networkx in /usr/local/linux/mambaforge-3.11/lib/python3.11/site-packages (from torch==2.0.0->torchvision) (2.8.8)\n",
      "Requirement already satisfied: jinja2 in /usr/local/linux/mambaforge-3.11/lib/python3.11/site-packages (from torch==2.0.0->torchvision) (3.1.2)\n",
      "Requirement already satisfied: nvidia-cuda-nvrtc-cu11==11.7.99 in /usr/local/linux/mambaforge-3.11/lib/python3.11/site-packages (from torch==2.0.0->torchvision) (11.7.99)\n",
      "Requirement already satisfied: nvidia-cuda-runtime-cu11==11.7.99 in /usr/local/linux/mambaforge-3.11/lib/python3.11/site-packages (from torch==2.0.0->torchvision) (11.7.99)\n",
      "Requirement already satisfied: nvidia-cuda-cupti-cu11==11.7.101 in /usr/local/linux/mambaforge-3.11/lib/python3.11/site-packages (from torch==2.0.0->torchvision) (11.7.101)\n",
      "Requirement already satisfied: nvidia-cudnn-cu11==8.5.0.96 in ./.local/lib/python3.11/site-packages (from torch==2.0.0->torchvision) (8.5.0.96)\n",
      "Requirement already satisfied: nvidia-cublas-cu11==11.10.3.66 in ./.local/lib/python3.11/site-packages (from torch==2.0.0->torchvision) (11.10.3.66)\n",
      "Requirement already satisfied: nvidia-cufft-cu11==10.9.0.58 in /usr/local/linux/mambaforge-3.11/lib/python3.11/site-packages (from torch==2.0.0->torchvision) (10.9.0.58)\n",
      "Requirement already satisfied: nvidia-curand-cu11==10.2.10.91 in /usr/local/linux/mambaforge-3.11/lib/python3.11/site-packages (from torch==2.0.0->torchvision) (10.2.10.91)\n",
      "Requirement already satisfied: nvidia-cusolver-cu11==11.4.0.1 in /usr/local/linux/mambaforge-3.11/lib/python3.11/site-packages (from torch==2.0.0->torchvision) (11.4.0.1)\n",
      "Requirement already satisfied: nvidia-cusparse-cu11==11.7.4.91 in /usr/local/linux/mambaforge-3.11/lib/python3.11/site-packages (from torch==2.0.0->torchvision) (11.7.4.91)\n",
      "Requirement already satisfied: nvidia-nccl-cu11==2.14.3 in /usr/local/linux/mambaforge-3.11/lib/python3.11/site-packages (from torch==2.0.0->torchvision) (2.14.3)\n",
      "Requirement already satisfied: nvidia-nvtx-cu11==11.7.91 in /usr/local/linux/mambaforge-3.11/lib/python3.11/site-packages (from torch==2.0.0->torchvision) (11.7.91)\n",
      "Requirement already satisfied: triton==2.0.0 in /usr/local/linux/mambaforge-3.11/lib/python3.11/site-packages (from torch==2.0.0->torchvision) (2.0.0)\n",
      "Requirement already satisfied: setuptools in /usr/local/linux/mambaforge-3.11/lib/python3.11/site-packages (from nvidia-cublas-cu11==11.10.3.66->torch==2.0.0->torchvision) (65.5.1)\n",
      "Requirement already satisfied: wheel in /usr/local/linux/mambaforge-3.11/lib/python3.11/site-packages (from nvidia-cublas-cu11==11.10.3.66->torch==2.0.0->torchvision) (0.38.4)\n",
      "Requirement already satisfied: cmake in /usr/local/linux/mambaforge-3.11/lib/python3.11/site-packages (from triton==2.0.0->torch==2.0.0->torchvision) (3.26.1)\n",
      "Requirement already satisfied: lit in /usr/local/linux/mambaforge-3.11/lib/python3.11/site-packages (from triton==2.0.0->torch==2.0.0->torchvision) (16.0.0)\n",
      "Requirement already satisfied: charset-normalizer<3,>=2 in /usr/local/linux/mambaforge-3.11/lib/python3.11/site-packages (from requests->torchvision) (2.1.1)\n",
      "Requirement already satisfied: idna<4,>=2.5 in /usr/local/linux/mambaforge-3.11/lib/python3.11/site-packages (from requests->torchvision) (3.4)\n",
      "Requirement already satisfied: urllib3<1.27,>=1.21.1 in /usr/local/linux/mambaforge-3.11/lib/python3.11/site-packages (from requests->torchvision) (1.26.13)\n",
      "Requirement already satisfied: certifi>=2017.4.17 in /usr/local/linux/mambaforge-3.11/lib/python3.11/site-packages (from requests->torchvision) (2023.11.17)\n",
      "Requirement already satisfied: MarkupSafe>=2.0 in /usr/local/linux/mambaforge-3.11/lib/python3.11/site-packages (from jinja2->torch==2.0.0->torchvision) (2.1.1)\n",
      "Requirement already satisfied: mpmath>=0.19 in /usr/local/linux/mambaforge-3.11/lib/python3.11/site-packages (from sympy->torch==2.0.0->torchvision) (1.3.0)\n",
      "Defaulting to user installation because normal site-packages is not writeable\n",
      "Requirement already satisfied: torchsummary in ./.local/lib/python3.11/site-packages (1.5.1)\n"
     ]
    }
   ],
   "source": [
    "!pip install torchmetrics \n",
    "!pip install torchvision\n",
    "!pip install torchsummary "
   ]
  },
  {
   "cell_type": "code",
   "execution_count": 2,
   "metadata": {
    "id": "FD6fwO1ddbEU",
    "tags": []
   },
   "outputs": [
    {
     "name": "stderr",
     "output_type": "stream",
     "text": [
      "2024-03-22 15:00:33.718183: W tensorflow/compiler/tf2tensorrt/utils/py_utils.cc:38] TF-TRT Warning: Could not find TensorRT\n"
     ]
    }
   ],
   "source": [
    "import numpy as np\n",
    "import matplotlib.pyplot as plt\n",
    "\n",
    "import torch\n",
    "import torch.nn as nn\n",
    "import torch.nn.functional as F\n",
    "import torch.optim as optim\n",
    "\n",
    "from torchvision import models,transforms\n",
    "from torchvision.utils import make_grid\n",
    "from torchvision.datasets import CIFAR10\n",
    "from torch.utils.data.sampler import SubsetRandomSampler\n",
    "from torch.utils.tensorboard import SummaryWriter\n",
    "from torchsummary import summary\n",
    "import torchmetrics as tm"
   ]
  },
  {
   "cell_type": "code",
   "execution_count": 3,
   "metadata": {
    "id": "L6xbtkeiecRm",
    "tags": []
   },
   "outputs": [],
   "source": [
    "# Use CIFAR-10 dataset\n",
    "def cifar10(batch_sz, path='./datasets'):\n",
    "    num_classes = 10\n",
    "    transform_train = transforms.Compose([\n",
    "                        transforms.RandomCrop(32, padding=4),\n",
    "                        transforms.RandomHorizontalFlip(),\n",
    "                        transforms.ToTensor(),\n",
    "                    ])\n",
    "    transform_test = transforms.Compose([\n",
    "                        transforms.ToTensor(),\n",
    "                    ])\n",
    "\n",
    "    # Training dataset\n",
    "    train_data = CIFAR10(root=path, train=True, download=True, transform=transform_train)\n",
    "    train_loader = torch.utils.data.DataLoader(train_data, batch_size=batch_sz,\n",
    "                                               shuffle=True, pin_memory=True)\n",
    "\n",
    "    # Test dataset\n",
    "    test_data = CIFAR10(root=path, train=False, download=True, transform=transform_test)\n",
    "    test_loader = torch.utils.data.DataLoader(test_data,\n",
    "                                              batch_size=batch_sz, shuffle=False, pin_memory=True)\n",
    "\n",
    "    return train_loader, test_loader, num_classes\n"
   ]
  },
  {
   "cell_type": "code",
   "execution_count": 4,
   "metadata": {
    "colab": {
     "base_uri": "https://localhost:8080/",
     "height": 101,
     "referenced_widgets": [
      "993e8ea15eae4969a5343926beb7dbc5",
      "e489882b66a54e46bc0a0b508d6710e7",
      "a43b880438ee4d9790ee9834f651e8d8",
      "c509b532fce14526be705ff955a18227",
      "e420bb4c91d146728ff290a013d25530",
      "c79523930ad24c80b93e44d2237f2395",
      "0195224c08974231bd97b1e752fd4256",
      "d9746d12c09542cba265ef4a8bf66c01",
      "bc7bca1e98d34b03b2e92765e049b5d9",
      "7090803403484b6ca88f6f38d33b2381",
      "53d05687d586488f8d81b6c5a5543f0a"
     ]
    },
    "id": "u3fKOo5negms",
    "outputId": "b35a30ec-034d-4ddf-b078-cfada94755d8",
    "tags": []
   },
   "outputs": [
    {
     "name": "stdout",
     "output_type": "stream",
     "text": [
      "Files already downloaded and verified\n",
      "Files already downloaded and verified\n"
     ]
    }
   ],
   "source": [
    "batch_size=64 # define the number of rows in a batch of data\n",
    "train_loader, test_loader, _=cifar10(batch_size)"
   ]
  },
  {
   "cell_type": "markdown",
   "metadata": {
    "user_expressions": []
   },
   "source": [
    "### CNN Unadjusted"
   ]
  },
  {
   "cell_type": "code",
   "execution_count": 36,
   "metadata": {
    "id": "gkbBm9pEFs66",
    "tags": []
   },
   "outputs": [],
   "source": [
    "class CNN(nn.Module):\n",
    "    def __init__(self):\n",
    "        super().__init__()\n",
    "        self.conv1 = nn.Conv2d(3,10,5,1)\n",
    "        self.conv2 = nn.Conv2d(10,50,5,1)\n",
    "        self.linear1 = nn.Linear(5*5*50,100)\n",
    "        self.linear2 = nn.Linear(100,10)\n",
    "        self.maxpool = nn.MaxPool2d((2,2))\n",
    "        self.relu = nn.ReLU()  \n",
    "    def forward(self,x):\n",
    "        x = self.conv1(x)\n",
    "        #print(f\"shape of first conv : {x.shape}\")\n",
    "        # x ---> (28,28,10)\n",
    "        x = self.relu(x)\n",
    "        x = self.maxpool(x)\n",
    "        # x --> (14,14,10)\n",
    "        x = self.conv2(x)\n",
    "        # x --> (10,10,50)\n",
    "        x = self.relu(x)\n",
    "        x = self.maxpool(x)\n",
    "        # x --> (5,5,50)\n",
    "        x = x.view(-1,5*5*50)\n",
    "        # classifier\n",
    "        x = self.linear1(x)\n",
    "        x = self.relu(x)\n",
    "        x = self.linear2(x)\n",
    "        return x\n",
    "    #def get_conv_size(self):\n",
    "        #print(self.conv1.in_channels)"
   ]
  },
  {
   "cell_type": "code",
   "execution_count": 37,
   "metadata": {
    "colab": {
     "background_save": true,
     "base_uri": "https://localhost:8080/"
    },
    "id": "zOOhLQ6qGLhH",
    "outputId": "72495246-fd03-408c-d8cd-15e56bf7e548",
    "tags": []
   },
   "outputs": [
    {
     "name": "stdout",
     "output_type": "stream",
     "text": [
      "Adjusting learning rate of group 0 to 1.0000e-01.\n",
      "Adjusting learning rate of group 0 to 9.0000e-02.\n",
      "Adjusting learning rate of group 0 to 8.1000e-02.\n",
      "Adjusting learning rate of group 0 to 7.2900e-02.\n",
      "Adjusting learning rate of group 0 to 6.5610e-02.\n",
      "Adjusting learning rate of group 0 to 5.9049e-02.\n",
      "Adjusting learning rate of group 0 to 5.3144e-02.\n",
      "Adjusting learning rate of group 0 to 4.7830e-02.\n",
      "Adjusting learning rate of group 0 to 4.3047e-02.\n",
      "Adjusting learning rate of group 0 to 3.8742e-02.\n",
      "Adjusting learning rate of group 0 to 3.4868e-02.\n"
     ]
    }
   ],
   "source": [
    "# Check if GPU is available\n",
    "device = (\n",
    "    \"cuda\"\n",
    "    if torch.cuda.is_available()\n",
    "    else \"mps\"\n",
    "    if torch.backends.mps.is_available()\n",
    "    else \"cpu\"\n",
    ")\n",
    "\n",
    "net = CNN()\n",
    "net = net.to(device)\n",
    "lr = 0.1\n",
    "mm = 0\n",
    "ls_2 = []\n",
    "optimizer = optim.SGD(net.parameters(),lr = lr,momentum = mm)\n",
    "schdulera = optim.lr_scheduler.ExponentialLR(optimizer,0.9,verbose = True)\n",
    "num_epochs = 10\n",
    "loss_fn = nn.CrossEntropyLoss()\n",
    "for i in range(num_epochs):\n",
    "  total_loss = 0\n",
    "  for batch in train_loader:\n",
    "    X,y = batch[0].to(device), batch[1].to(device)\n",
    "    logits = net(X)\n",
    "    loss = loss_fn(logits,y)\n",
    "    total_loss += loss.item()\n",
    "    optimizer.zero_grad()\n",
    "    loss.backward()\n",
    "    optimizer.step()\n",
    "  schdulera.step()\n",
    "  ls_2.append(total_loss)"
   ]
  },
  {
   "cell_type": "code",
   "execution_count": 39,
   "metadata": {
    "colab": {
     "background_save": true
    },
    "id": "A1pdfHW_HaOH",
    "outputId": "c0619d6b-ce24-4e06-f26f-b7a673bdff6a",
    "tags": []
   },
   "outputs": [
    {
     "name": "stdout",
     "output_type": "stream",
     "text": [
      "The mean loss value for the Convolutional Neural Networks is 1.070118025609642\n",
      "The mean accuracy value for the Convolutional Neural Networks is  0.6242038\n"
     ]
    }
   ],
   "source": [
    "acc = []\n",
    "loss_2 = []\n",
    "accuracy = tm.Accuracy(task=\"multiclass\", num_classes=10)\n",
    "total_loss = 0\n",
    "for batch in test_loader:\n",
    "  X,y = batch[0].to(device), batch[1].to(device)\n",
    "  logits = net(X)\n",
    "  yhat = torch.argmax(logits,1)\n",
    "  a = accuracy(yhat.to(\"cpu\"),y.to(\"cpu\"))\n",
    "  loss = loss_fn(logits,y)\n",
    "  acc.append(a)\n",
    "  loss_2.append(loss.item())\n",
    "print(\"The mean loss value for the Convolutional Neural Networks is\",np.mean(loss_2))\n",
    "print(\"The mean accuracy value for the Convolutional Neural Networks is \",np.mean(acc))"
   ]
  },
  {
   "cell_type": "markdown",
   "metadata": {
    "user_expressions": []
   },
   "source": [
    "The total number of bits in the input images is $3 \\times 32 \\times 32 \\times 8 = 24576$ bits. "
   ]
  },
  {
   "cell_type": "markdown",
   "metadata": {
    "user_expressions": []
   },
   "source": [
    "Then we calculate the compression rates of each compression layer: `G-conv`. For example, from my first `nn.conv2d`, the compression ratio is $\\frac{3 \\times 32 \\times 32}{10 \\times 28\\times 28} = 0.4$ and the subsequent `nn.maxpool` layer is $\\frac{10 \\times 28 \\times 28}{10 \\times 14 \\times 14} = 4$. We can repeat the process and go through the other layers prior to the linear neural net, and note that ajacent $G_i$ and $G_j$ have numerators and denominators that cancel out. So in the end we should have $\\frac{3 \\times 32 \\times 32}{5 \\times 5\\times 50} = 2.45$ as the final compression number ($2.45:1$)."
   ]
  },
  {
   "cell_type": "markdown",
   "metadata": {
    "user_expressions": []
   },
   "source": [
    "Thus $\\frac{24576}{2.45} = 10000 $ bits are passed into the linear layers. We can caluclate the MEC of the linear layer to be $(5\\times 5 \\times 50 + 1) \\times 100 + 10 = 125110$ bits. As $125110 >> 10000$, the network currently overfits the input data."
   ]
  },
  {
   "cell_type": "markdown",
   "metadata": {
    "user_expressions": []
   },
   "source": [
    "Then we try to decrease the MEC of the final linear layer to reduce overfitting. This is done by removing the hidden layer and directly feeding the flattened vector into 10 neurons"
   ]
  },
  {
   "cell_type": "markdown",
   "metadata": {
    "tags": [],
    "user_expressions": []
   },
   "source": [
    "### CNN Adjusted"
   ]
  },
  {
   "cell_type": "code",
   "execution_count": 6,
   "metadata": {
    "tags": []
   },
   "outputs": [],
   "source": [
    "class CNN_new(nn.Module):\n",
    "    def __init__(self):\n",
    "        super().__init__()\n",
    "        self.conv1 = nn.Conv2d(3,10,5,1)\n",
    "        self.conv2 = nn.Conv2d(10,50,5,1)\n",
    "        self.linear1 = nn.Linear(5*5*50,10)\n",
    "        #self.linear2 = nn.Linear(100,10)\n",
    "        self.maxpool = nn.MaxPool2d((2,2))\n",
    "        self.relu = nn.ReLU()  \n",
    "    def forward(self,x):\n",
    "        # feature extractor\n",
    "        x = self.conv1(x)\n",
    "        #print(f\"shape of first conv : {x.shape}\")\n",
    "        # x ---> (28,28,10)\n",
    "        x = self.relu(x)\n",
    "        x = self.maxpool(x)\n",
    "        # x --> (14,14,10)\n",
    "        x = self.conv2(x)\n",
    "        # x --> (10,10,50)\n",
    "        x = self.relu(x)\n",
    "        x = self.maxpool(x)\n",
    "        # x --> (5,5,50)\n",
    "        x = x.view(-1,5*5*50)\n",
    "        # classifier\n",
    "        x = self.linear1(x)\n",
    "        #x = self.relu(x)\n",
    "        #x = self.linear2(x)\n",
    "        return x\n",
    "    #def get_conv_size(self):\n",
    "        #print(self.conv1.in_channels)"
   ]
  },
  {
   "cell_type": "code",
   "execution_count": 7,
   "metadata": {
    "tags": []
   },
   "outputs": [
    {
     "name": "stdout",
     "output_type": "stream",
     "text": [
      "Adjusting learning rate of group 0 to 1.0000e-01.\n",
      "Adjusting learning rate of group 0 to 9.0000e-02.\n",
      "Adjusting learning rate of group 0 to 8.1000e-02.\n",
      "Adjusting learning rate of group 0 to 7.2900e-02.\n",
      "Adjusting learning rate of group 0 to 6.5610e-02.\n",
      "Adjusting learning rate of group 0 to 5.9049e-02.\n",
      "Adjusting learning rate of group 0 to 5.3144e-02.\n",
      "Adjusting learning rate of group 0 to 4.7830e-02.\n",
      "Adjusting learning rate of group 0 to 4.3047e-02.\n",
      "Adjusting learning rate of group 0 to 3.8742e-02.\n",
      "Adjusting learning rate of group 0 to 3.4868e-02.\n"
     ]
    }
   ],
   "source": [
    "device = (\n",
    "    \"cuda\"\n",
    "    if torch.cuda.is_available()\n",
    "    else \"mps\"\n",
    "    if torch.backends.mps.is_available()\n",
    "    else \"cpu\"\n",
    ")\n",
    "\n",
    "net = CNN_new()\n",
    "net = net.to(device)\n",
    "lr = 0.1\n",
    "mm = 0\n",
    "ls_2 = []\n",
    "optimizer = optim.SGD(net.parameters(),lr = lr,momentum = mm)\n",
    "schdulera = optim.lr_scheduler.ExponentialLR(optimizer,0.9,verbose = True)\n",
    "num_epochs = 10\n",
    "loss_fn = nn.CrossEntropyLoss()\n",
    "for i in range(num_epochs):\n",
    "  total_loss = 0\n",
    "  for batch in train_loader:\n",
    "    X,y = batch[0].to(device), batch[1].to(device)\n",
    "    logits = net(X)\n",
    "    loss = loss_fn(logits,y)\n",
    "    total_loss += loss.item()\n",
    "    optimizer.zero_grad()\n",
    "    loss.backward()\n",
    "    optimizer.step()\n",
    "  schdulera.step()\n",
    "  ls_2.append(total_loss)"
   ]
  },
  {
   "cell_type": "code",
   "execution_count": 8,
   "metadata": {
    "tags": []
   },
   "outputs": [
    {
     "name": "stdout",
     "output_type": "stream",
     "text": [
      "The mean loss value for the Convolutional Neural Networks is 1.1188129657393049\n",
      "The mean accuracy value for the Convolutional Neural Networks is  0.60828024\n"
     ]
    }
   ],
   "source": [
    "acc = []\n",
    "loss_2 = []\n",
    "accuracy = tm.Accuracy(task=\"multiclass\", num_classes=10)\n",
    "total_loss = 0\n",
    "for batch in test_loader:\n",
    "  X,y = batch[0].to(device), batch[1].to(device)\n",
    "  logits = net(X)\n",
    "  yhat = torch.argmax(logits,1)\n",
    "  a = accuracy(yhat.to(\"cpu\"),y.to(\"cpu\"))\n",
    "  loss = loss_fn(logits,y)\n",
    "  acc.append(a)\n",
    "  loss_2.append(loss.item())\n",
    "print(\"The mean loss value for the Convolutional Neural Networks is\",np.mean(loss_2))\n",
    "print(\"The mean accuracy value for the Convolutional Neural Networks is \",np.mean(acc))"
   ]
  },
  {
   "cell_type": "markdown",
   "metadata": {
    "user_expressions": []
   },
   "source": [
    "Now the MEC is $(5\\times 5 \\times 50 + 1) \\times 10 = 12510$ bits, much closer to the $10000$ bits coming in. But we observe that for some reason, the mean accuracy did not improve much. "
   ]
  }
 ],
 "metadata": {
  "accelerator": "GPU",
  "colab": {
   "provenance": []
  },
  "gpuClass": "standard",
  "kernelspec": {
   "display_name": "Python 3 (ipykernel)",
   "language": "python",
   "name": "python3"
  },
  "language_info": {
   "codemirror_mode": {
    "name": "ipython",
    "version": 3
   },
   "file_extension": ".py",
   "mimetype": "text/x-python",
   "name": "python",
   "nbconvert_exporter": "python",
   "pygments_lexer": "ipython3",
   "version": "3.11.0"
  },
  "vscode": {
   "interpreter": {
    "hash": "162b6b064e165ad366d1bd4cdc631c4691b039cb551eb2d47403b16e997dbe09"
   }
  },
  "widgets": {
   "application/vnd.jupyter.widget-state+json": {
    "0195224c08974231bd97b1e752fd4256": {
     "model_module": "@jupyter-widgets/controls",
     "model_module_version": "1.5.0",
     "model_name": "DescriptionStyleModel",
     "state": {
      "_model_module": "@jupyter-widgets/controls",
      "_model_module_version": "1.5.0",
      "_model_name": "DescriptionStyleModel",
      "_view_count": null,
      "_view_module": "@jupyter-widgets/base",
      "_view_module_version": "1.2.0",
      "_view_name": "StyleView",
      "description_width": ""
     }
    },
    "53d05687d586488f8d81b6c5a5543f0a": {
     "model_module": "@jupyter-widgets/controls",
     "model_module_version": "1.5.0",
     "model_name": "DescriptionStyleModel",
     "state": {
      "_model_module": "@jupyter-widgets/controls",
      "_model_module_version": "1.5.0",
      "_model_name": "DescriptionStyleModel",
      "_view_count": null,
      "_view_module": "@jupyter-widgets/base",
      "_view_module_version": "1.2.0",
      "_view_name": "StyleView",
      "description_width": ""
     }
    },
    "7090803403484b6ca88f6f38d33b2381": {
     "model_module": "@jupyter-widgets/base",
     "model_module_version": "1.2.0",
     "model_name": "LayoutModel",
     "state": {
      "_model_module": "@jupyter-widgets/base",
      "_model_module_version": "1.2.0",
      "_model_name": "LayoutModel",
      "_view_count": null,
      "_view_module": "@jupyter-widgets/base",
      "_view_module_version": "1.2.0",
      "_view_name": "LayoutView",
      "align_content": null,
      "align_items": null,
      "align_self": null,
      "border": null,
      "bottom": null,
      "display": null,
      "flex": null,
      "flex_flow": null,
      "grid_area": null,
      "grid_auto_columns": null,
      "grid_auto_flow": null,
      "grid_auto_rows": null,
      "grid_column": null,
      "grid_gap": null,
      "grid_row": null,
      "grid_template_areas": null,
      "grid_template_columns": null,
      "grid_template_rows": null,
      "height": null,
      "justify_content": null,
      "justify_items": null,
      "left": null,
      "margin": null,
      "max_height": null,
      "max_width": null,
      "min_height": null,
      "min_width": null,
      "object_fit": null,
      "object_position": null,
      "order": null,
      "overflow": null,
      "overflow_x": null,
      "overflow_y": null,
      "padding": null,
      "right": null,
      "top": null,
      "visibility": null,
      "width": null
     }
    },
    "993e8ea15eae4969a5343926beb7dbc5": {
     "model_module": "@jupyter-widgets/controls",
     "model_module_version": "1.5.0",
     "model_name": "HBoxModel",
     "state": {
      "_dom_classes": [],
      "_model_module": "@jupyter-widgets/controls",
      "_model_module_version": "1.5.0",
      "_model_name": "HBoxModel",
      "_view_count": null,
      "_view_module": "@jupyter-widgets/controls",
      "_view_module_version": "1.5.0",
      "_view_name": "HBoxView",
      "box_style": "",
      "children": [
       "IPY_MODEL_e489882b66a54e46bc0a0b508d6710e7",
       "IPY_MODEL_a43b880438ee4d9790ee9834f651e8d8",
       "IPY_MODEL_c509b532fce14526be705ff955a18227"
      ],
      "layout": "IPY_MODEL_e420bb4c91d146728ff290a013d25530"
     }
    },
    "a43b880438ee4d9790ee9834f651e8d8": {
     "model_module": "@jupyter-widgets/controls",
     "model_module_version": "1.5.0",
     "model_name": "FloatProgressModel",
     "state": {
      "_dom_classes": [],
      "_model_module": "@jupyter-widgets/controls",
      "_model_module_version": "1.5.0",
      "_model_name": "FloatProgressModel",
      "_view_count": null,
      "_view_module": "@jupyter-widgets/controls",
      "_view_module_version": "1.5.0",
      "_view_name": "ProgressView",
      "bar_style": "success",
      "description": "",
      "description_tooltip": null,
      "layout": "IPY_MODEL_d9746d12c09542cba265ef4a8bf66c01",
      "max": 170498071,
      "min": 0,
      "orientation": "horizontal",
      "style": "IPY_MODEL_bc7bca1e98d34b03b2e92765e049b5d9",
      "value": 170498071
     }
    },
    "bc7bca1e98d34b03b2e92765e049b5d9": {
     "model_module": "@jupyter-widgets/controls",
     "model_module_version": "1.5.0",
     "model_name": "ProgressStyleModel",
     "state": {
      "_model_module": "@jupyter-widgets/controls",
      "_model_module_version": "1.5.0",
      "_model_name": "ProgressStyleModel",
      "_view_count": null,
      "_view_module": "@jupyter-widgets/base",
      "_view_module_version": "1.2.0",
      "_view_name": "StyleView",
      "bar_color": null,
      "description_width": ""
     }
    },
    "c509b532fce14526be705ff955a18227": {
     "model_module": "@jupyter-widgets/controls",
     "model_module_version": "1.5.0",
     "model_name": "HTMLModel",
     "state": {
      "_dom_classes": [],
      "_model_module": "@jupyter-widgets/controls",
      "_model_module_version": "1.5.0",
      "_model_name": "HTMLModel",
      "_view_count": null,
      "_view_module": "@jupyter-widgets/controls",
      "_view_module_version": "1.5.0",
      "_view_name": "HTMLView",
      "description": "",
      "description_tooltip": null,
      "layout": "IPY_MODEL_7090803403484b6ca88f6f38d33b2381",
      "placeholder": "​",
      "style": "IPY_MODEL_53d05687d586488f8d81b6c5a5543f0a",
      "value": " 170498071/170498071 [00:14&lt;00:00, 13161925.48it/s]"
     }
    },
    "c79523930ad24c80b93e44d2237f2395": {
     "model_module": "@jupyter-widgets/base",
     "model_module_version": "1.2.0",
     "model_name": "LayoutModel",
     "state": {
      "_model_module": "@jupyter-widgets/base",
      "_model_module_version": "1.2.0",
      "_model_name": "LayoutModel",
      "_view_count": null,
      "_view_module": "@jupyter-widgets/base",
      "_view_module_version": "1.2.0",
      "_view_name": "LayoutView",
      "align_content": null,
      "align_items": null,
      "align_self": null,
      "border": null,
      "bottom": null,
      "display": null,
      "flex": null,
      "flex_flow": null,
      "grid_area": null,
      "grid_auto_columns": null,
      "grid_auto_flow": null,
      "grid_auto_rows": null,
      "grid_column": null,
      "grid_gap": null,
      "grid_row": null,
      "grid_template_areas": null,
      "grid_template_columns": null,
      "grid_template_rows": null,
      "height": null,
      "justify_content": null,
      "justify_items": null,
      "left": null,
      "margin": null,
      "max_height": null,
      "max_width": null,
      "min_height": null,
      "min_width": null,
      "object_fit": null,
      "object_position": null,
      "order": null,
      "overflow": null,
      "overflow_x": null,
      "overflow_y": null,
      "padding": null,
      "right": null,
      "top": null,
      "visibility": null,
      "width": null
     }
    },
    "d9746d12c09542cba265ef4a8bf66c01": {
     "model_module": "@jupyter-widgets/base",
     "model_module_version": "1.2.0",
     "model_name": "LayoutModel",
     "state": {
      "_model_module": "@jupyter-widgets/base",
      "_model_module_version": "1.2.0",
      "_model_name": "LayoutModel",
      "_view_count": null,
      "_view_module": "@jupyter-widgets/base",
      "_view_module_version": "1.2.0",
      "_view_name": "LayoutView",
      "align_content": null,
      "align_items": null,
      "align_self": null,
      "border": null,
      "bottom": null,
      "display": null,
      "flex": null,
      "flex_flow": null,
      "grid_area": null,
      "grid_auto_columns": null,
      "grid_auto_flow": null,
      "grid_auto_rows": null,
      "grid_column": null,
      "grid_gap": null,
      "grid_row": null,
      "grid_template_areas": null,
      "grid_template_columns": null,
      "grid_template_rows": null,
      "height": null,
      "justify_content": null,
      "justify_items": null,
      "left": null,
      "margin": null,
      "max_height": null,
      "max_width": null,
      "min_height": null,
      "min_width": null,
      "object_fit": null,
      "object_position": null,
      "order": null,
      "overflow": null,
      "overflow_x": null,
      "overflow_y": null,
      "padding": null,
      "right": null,
      "top": null,
      "visibility": null,
      "width": null
     }
    },
    "e420bb4c91d146728ff290a013d25530": {
     "model_module": "@jupyter-widgets/base",
     "model_module_version": "1.2.0",
     "model_name": "LayoutModel",
     "state": {
      "_model_module": "@jupyter-widgets/base",
      "_model_module_version": "1.2.0",
      "_model_name": "LayoutModel",
      "_view_count": null,
      "_view_module": "@jupyter-widgets/base",
      "_view_module_version": "1.2.0",
      "_view_name": "LayoutView",
      "align_content": null,
      "align_items": null,
      "align_self": null,
      "border": null,
      "bottom": null,
      "display": null,
      "flex": null,
      "flex_flow": null,
      "grid_area": null,
      "grid_auto_columns": null,
      "grid_auto_flow": null,
      "grid_auto_rows": null,
      "grid_column": null,
      "grid_gap": null,
      "grid_row": null,
      "grid_template_areas": null,
      "grid_template_columns": null,
      "grid_template_rows": null,
      "height": null,
      "justify_content": null,
      "justify_items": null,
      "left": null,
      "margin": null,
      "max_height": null,
      "max_width": null,
      "min_height": null,
      "min_width": null,
      "object_fit": null,
      "object_position": null,
      "order": null,
      "overflow": null,
      "overflow_x": null,
      "overflow_y": null,
      "padding": null,
      "right": null,
      "top": null,
      "visibility": null,
      "width": null
     }
    },
    "e489882b66a54e46bc0a0b508d6710e7": {
     "model_module": "@jupyter-widgets/controls",
     "model_module_version": "1.5.0",
     "model_name": "HTMLModel",
     "state": {
      "_dom_classes": [],
      "_model_module": "@jupyter-widgets/controls",
      "_model_module_version": "1.5.0",
      "_model_name": "HTMLModel",
      "_view_count": null,
      "_view_module": "@jupyter-widgets/controls",
      "_view_module_version": "1.5.0",
      "_view_name": "HTMLView",
      "description": "",
      "description_tooltip": null,
      "layout": "IPY_MODEL_c79523930ad24c80b93e44d2237f2395",
      "placeholder": "​",
      "style": "IPY_MODEL_0195224c08974231bd97b1e752fd4256",
      "value": "100%"
     }
    }
   }
  }
 },
 "nbformat": 4,
 "nbformat_minor": 4
}
